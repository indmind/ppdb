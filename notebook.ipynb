{
 "cells": [
  {
   "cell_type": "code",
   "execution_count": 1,
   "metadata": {},
   "outputs": [],
   "source": [
    "from urllib import request\n",
    "from bs4 import BeautifulSoup as soup\n",
    "import json\n",
    "import sys"
   ]
  },
  {
   "cell_type": "code",
   "execution_count": 2,
   "metadata": {},
   "outputs": [],
   "source": [
    "header = {'Accept': 'text/html,application/xhtml+xml,application/xml;q=0.9,*/*;q=0.8', 'User-Agent' : \"Magic Browser\"}\n",
    "school_link = \"https://02.ppdbjatim.net/pengumuman/pengumuman_penerimaan/smk/sekolah/2413\""
   ]
  },
  {
   "cell_type": "code",
   "execution_count": 3,
   "metadata": {},
   "outputs": [],
   "source": [
    "def fetch_school(link):\n",
    "    client = request.urlopen(request.Request(link, headers=header))\n",
    "\n",
    "    data = soup(client.read(), \"html.parser\")\n",
    "\n",
    "    client.close()\n",
    "\n",
    "    students = []\n",
    "\n",
    "    for s in data.findAll(\"tr\")[1:]:\n",
    "        detail = s.findAll(\"td\")\n",
    "\n",
    "        students.append({\n",
    "            \"urutan\": int(detail[0].text),\n",
    "            \"no-ujian\": detail[1].text,\n",
    "            \"nama\": detail[2].text,\n",
    "            \"sekolah-asal\": detail[3].text,\n",
    "            \"status\": detail[4].text.strip(),\n",
    "            \"nilai\": float(detail[5].text),\n",
    "            \"detail-nilai\": detail[6].text,\n",
    "            \"waktu-daftar\": detail[7].text,\n",
    "            \"link\": detail[8].a[\"href\"],\n",
    "        })\n",
    "\n",
    "    return students"
   ]
  },
  {
   "cell_type": "code",
   "execution_count": null,
   "metadata": {},
   "outputs": [],
   "source": []
  },
  {
   "cell_type": "code",
   "execution_count": 4,
   "metadata": {},
   "outputs": [],
   "source": [
    "def scrape_user(link, name=None):\n",
    "    print(\"scaping user:\", name or link.split(\"/\")[-1], end =\"... \")\n",
    "    sys.stdout.flush()\n",
    "\n",
    "    client = request.urlopen(request.Request(link, headers=header))\n",
    "    user_soup = soup(client.read(), \"html.parser\")\n",
    "    client.close()\n",
    "    \n",
    "    sma = link.split(\"/\")[-2] == \"sma\"\n",
    "    container = user_soup.select(\"body > div.container-fluid > div > div > div.row.font > div.col-md-12.col-md-border > div > div.panel-body\")[0]\n",
    "    kelamin = container.div.findAll(\"div\")[8].span.text\n",
    "    span = container.findAll(\"div\", {\"class\": \"col-md-7\"})[0].findAll(\"span\")\n",
    "    \n",
    "    if not sma:\n",
    "        pilihan = [ \n",
    "            {\n",
    "                \"Nama Sekolah\": span[0].text,\n",
    "                \"Jurusan\": span[1].text,\n",
    "                \"Status\": span[2].text\n",
    "            },{\n",
    "                \"Nama Sekolah\": span[3].text,\n",
    "                \"Jurusan\": span[4].text,\n",
    "                \"Status\": span[5].text\n",
    "            }\n",
    "        ]\n",
    "    else:\n",
    "        pilihan = [ \n",
    "            {\n",
    "                \"Nama Sekolah\": span[0].text,\n",
    "                \"Status\": span[1].text\n",
    "            },{\n",
    "                \"Nama Sekolah\": span[2].text,\n",
    "                \"Status\": span[3].text\n",
    "            }\n",
    "        ]\n",
    "    \n",
    "    print(\"done!\")\n",
    "\n",
    "    return [kelamin, pilihan, span[4 if sma else 6].text]"
   ]
  },
  {
   "cell_type": "code",
   "execution_count": null,
   "metadata": {},
   "outputs": [],
   "source": []
  },
  {
   "cell_type": "code",
   "execution_count": 5,
   "metadata": {},
   "outputs": [],
   "source": [
    "def scrape(link, detail, num=None):\n",
    "    data = fetch_school(link)\n",
    "\n",
    "    print(\"Get {0} data\".format(num))\n",
    "\n",
    "    if not detail:\n",
    "        return data[:num]\n",
    "\n",
    "    new_data = []\n",
    "\n",
    "    for d in data[:num]:\n",
    "        detail = scrape_user(d[\"link\"], d[\"nama\"])\n",
    "\n",
    "        d[\"kelamin\"] = detail[0]\n",
    "        d[\"pilihan\"] = detail[1]\n",
    "        d[\"diterima-sementara\"] = detail[2]\n",
    "\n",
    "        new_data.append(d)\n",
    "        \n",
    "    return new_data"
   ]
  },
  {
   "cell_type": "code",
   "execution_count": 6,
   "metadata": {},
   "outputs": [
    {
     "ename": "ValueError",
     "evalue": "invalid literal for int() with base 10: '-'",
     "output_type": "error",
     "traceback": [
      "\u001b[1;31m---------------------------------------------------------------------------\u001b[0m",
      "\u001b[1;31mValueError\u001b[0m                                Traceback (most recent call last)",
      "\u001b[1;32m<ipython-input-6-3761a71fd82d>\u001b[0m in \u001b[0;36m<module>\u001b[1;34m()\u001b[0m\n\u001b[1;32m----> 1\u001b[1;33m \u001b[0mdata\u001b[0m \u001b[1;33m=\u001b[0m \u001b[0mscrape\u001b[0m\u001b[1;33m(\u001b[0m\u001b[1;34m\"https://09.ppdbjatim.net/pengumuman/pengumuman_penerimaan/sma/sekolah/64\"\u001b[0m\u001b[1;33m,\u001b[0m \u001b[1;32mTrue\u001b[0m\u001b[1;33m,\u001b[0m \u001b[1;36m10\u001b[0m\u001b[1;33m)\u001b[0m\u001b[1;33m\u001b[0m\u001b[0m\n\u001b[0m",
      "\u001b[1;32m<ipython-input-5-84627cef0eb3>\u001b[0m in \u001b[0;36mscrape\u001b[1;34m(link, detail, num)\u001b[0m\n\u001b[0;32m      1\u001b[0m \u001b[1;32mdef\u001b[0m \u001b[0mscrape\u001b[0m\u001b[1;33m(\u001b[0m\u001b[0mlink\u001b[0m\u001b[1;33m,\u001b[0m \u001b[0mdetail\u001b[0m\u001b[1;33m,\u001b[0m \u001b[0mnum\u001b[0m\u001b[1;33m=\u001b[0m\u001b[1;32mNone\u001b[0m\u001b[1;33m)\u001b[0m\u001b[1;33m:\u001b[0m\u001b[1;33m\u001b[0m\u001b[0m\n\u001b[1;32m----> 2\u001b[1;33m     \u001b[0mdata\u001b[0m \u001b[1;33m=\u001b[0m \u001b[0mfetch_school\u001b[0m\u001b[1;33m(\u001b[0m\u001b[0mlink\u001b[0m\u001b[1;33m)\u001b[0m\u001b[1;33m\u001b[0m\u001b[0m\n\u001b[0m\u001b[0;32m      3\u001b[0m \u001b[1;33m\u001b[0m\u001b[0m\n\u001b[0;32m      4\u001b[0m     \u001b[0mprint\u001b[0m\u001b[1;33m(\u001b[0m\u001b[1;34m\"Get {0} data\"\u001b[0m\u001b[1;33m.\u001b[0m\u001b[0mformat\u001b[0m\u001b[1;33m(\u001b[0m\u001b[0mnum\u001b[0m\u001b[1;33m)\u001b[0m\u001b[1;33m)\u001b[0m\u001b[1;33m\u001b[0m\u001b[0m\n\u001b[0;32m      5\u001b[0m \u001b[1;33m\u001b[0m\u001b[0m\n",
      "\u001b[1;32m<ipython-input-3-15ae86223dc4>\u001b[0m in \u001b[0;36mfetch_school\u001b[1;34m(link)\u001b[0m\n\u001b[0;32m     12\u001b[0m \u001b[1;33m\u001b[0m\u001b[0m\n\u001b[0;32m     13\u001b[0m         students.append({\n\u001b[1;32m---> 14\u001b[1;33m             \u001b[1;34m\"urutan\"\u001b[0m\u001b[1;33m:\u001b[0m \u001b[0mint\u001b[0m\u001b[1;33m(\u001b[0m\u001b[0mdetail\u001b[0m\u001b[1;33m[\u001b[0m\u001b[1;36m0\u001b[0m\u001b[1;33m]\u001b[0m\u001b[1;33m.\u001b[0m\u001b[0mtext\u001b[0m\u001b[1;33m)\u001b[0m\u001b[1;33m,\u001b[0m\u001b[1;33m\u001b[0m\u001b[0m\n\u001b[0m\u001b[0;32m     15\u001b[0m             \u001b[1;34m\"no-ujian\"\u001b[0m\u001b[1;33m:\u001b[0m \u001b[0mdetail\u001b[0m\u001b[1;33m[\u001b[0m\u001b[1;36m1\u001b[0m\u001b[1;33m]\u001b[0m\u001b[1;33m.\u001b[0m\u001b[0mtext\u001b[0m\u001b[1;33m,\u001b[0m\u001b[1;33m\u001b[0m\u001b[0m\n\u001b[0;32m     16\u001b[0m             \u001b[1;34m\"nama\"\u001b[0m\u001b[1;33m:\u001b[0m \u001b[0mdetail\u001b[0m\u001b[1;33m[\u001b[0m\u001b[1;36m2\u001b[0m\u001b[1;33m]\u001b[0m\u001b[1;33m.\u001b[0m\u001b[0mtext\u001b[0m\u001b[1;33m,\u001b[0m\u001b[1;33m\u001b[0m\u001b[0m\n",
      "\u001b[1;31mValueError\u001b[0m: invalid literal for int() with base 10: '-'"
     ]
    }
   ],
   "source": [
    "data = scrape(\"https://09.ppdbjatim.net/pengumuman/pengumuman_penerimaan/sma/sekolah/64\", True, 10)"
   ]
  },
  {
   "cell_type": "code",
   "execution_count": 27,
   "metadata": {
    "collapsed": true
   },
   "outputs": [
    {
     "data": {
      "text/plain": [
       "[{'detail-nilai': '100.00 | 87.50 | 88.00 | 94.00',\n",
       "  'diterima-sementara': 'SMA NEGERI 1 BATU ',\n",
       "  'kelamin': 'LAKI-LAKI',\n",
       "  'link': 'https://09.ppdbjatim.net/pengumuman/detail_pengumuman/sma/21805090010987',\n",
       "  'nama': 'AGAPHE SULUH BRAHMANTIO',\n",
       "  'nilai': 369.5,\n",
       "  'no-ujian': '21805090010987',\n",
       "  'pilihan': [{'Nama Sekolah': 'SMA NEGERI 1 BATU',\n",
       "    'Status': 'Dalam Zona | Dalam Kota'},\n",
       "   {'Nama Sekolah': 'SMA NEGERI 2 BATU', 'Status': 'Dalam Zona | Dalam Kota'}],\n",
       "  'sekolah-asal': 'SMP NEGERI 1 BATU',\n",
       "  'status': 'DK',\n",
       "  'urutan': 1,\n",
       "  'waktu-daftar': '2018-06-25 09:34:43'},\n",
       " {'detail-nilai': '95.00 | 87.50 | 86.00 | 96.00',\n",
       "  'diterima-sementara': 'SMA NEGERI 1 BATU ',\n",
       "  'kelamin': 'PEREMPUAN',\n",
       "  'link': 'https://09.ppdbjatim.net/pengumuman/detail_pengumuman/sma/21805090010454',\n",
       "  'nama': 'DWI HIKMAH AMALIA',\n",
       "  'nilai': 364.5,\n",
       "  'no-ujian': '21805090010454',\n",
       "  'pilihan': [{'Nama Sekolah': 'SMA NEGERI 1 BATU',\n",
       "    'Status': 'Dalam Zona | Dalam Kota'},\n",
       "   {'Nama Sekolah': 'SMA NEGERI 2 BATU', 'Status': 'Dalam Zona | Dalam Kota'}],\n",
       "  'sekolah-asal': 'SMP NEGERI 1 BATU',\n",
       "  'status': 'DK',\n",
       "  'urutan': 2,\n",
       "  'waktu-daftar': '2018-06-25 09:07:18'}]"
      ]
     },
     "execution_count": 27,
     "metadata": {},
     "output_type": "execute_result"
    }
   ],
   "source": [
    "data"
   ]
  },
  {
   "cell_type": "code",
   "execution_count": 9,
   "metadata": {},
   "outputs": [
    {
     "ename": "IndexError",
     "evalue": "list index out of range",
     "output_type": "error",
     "traceback": [
      "\u001b[1;31m---------------------------------------------------------------------------\u001b[0m",
      "\u001b[1;31mIndexError\u001b[0m                                Traceback (most recent call last)",
      "\u001b[1;32m<ipython-input-9-7675e3e3e88b>\u001b[0m in \u001b[0;36m<module>\u001b[1;34m()\u001b[0m\n\u001b[1;32m----> 1\u001b[1;33m \u001b[0mfetch_school\u001b[0m\u001b[1;33m(\u001b[0m\u001b[1;34m\"https://02.ppdbjatim.net/pengumuman/pengumuman_penerimaan/smk/sekolah/5478\"\u001b[0m\u001b[1;33m)\u001b[0m\u001b[1;33m\u001b[0m\u001b[0m\n\u001b[0m",
      "\u001b[1;32m<ipython-input-3-15ae86223dc4>\u001b[0m in \u001b[0;36mfetch_school\u001b[1;34m(link)\u001b[0m\n\u001b[0;32m     16\u001b[0m             \u001b[1;34m\"nama\"\u001b[0m\u001b[1;33m:\u001b[0m \u001b[0mdetail\u001b[0m\u001b[1;33m[\u001b[0m\u001b[1;36m2\u001b[0m\u001b[1;33m]\u001b[0m\u001b[1;33m.\u001b[0m\u001b[0mtext\u001b[0m\u001b[1;33m,\u001b[0m\u001b[1;33m\u001b[0m\u001b[0m\n\u001b[0;32m     17\u001b[0m             \u001b[1;34m\"sekolah-asal\"\u001b[0m\u001b[1;33m:\u001b[0m \u001b[0mdetail\u001b[0m\u001b[1;33m[\u001b[0m\u001b[1;36m3\u001b[0m\u001b[1;33m]\u001b[0m\u001b[1;33m.\u001b[0m\u001b[0mtext\u001b[0m\u001b[1;33m,\u001b[0m\u001b[1;33m\u001b[0m\u001b[0m\n\u001b[1;32m---> 18\u001b[1;33m             \u001b[1;34m\"status\"\u001b[0m\u001b[1;33m:\u001b[0m \u001b[0mdetail\u001b[0m\u001b[1;33m[\u001b[0m\u001b[1;36m4\u001b[0m\u001b[1;33m]\u001b[0m\u001b[1;33m.\u001b[0m\u001b[0mtext\u001b[0m\u001b[1;33m.\u001b[0m\u001b[0mstrip\u001b[0m\u001b[1;33m(\u001b[0m\u001b[1;33m)\u001b[0m\u001b[1;33m,\u001b[0m\u001b[1;33m\u001b[0m\u001b[0m\n\u001b[0m\u001b[0;32m     19\u001b[0m             \u001b[1;34m\"nilai\"\u001b[0m\u001b[1;33m:\u001b[0m \u001b[0mfloat\u001b[0m\u001b[1;33m(\u001b[0m\u001b[0mdetail\u001b[0m\u001b[1;33m[\u001b[0m\u001b[1;36m5\u001b[0m\u001b[1;33m]\u001b[0m\u001b[1;33m.\u001b[0m\u001b[0mtext\u001b[0m\u001b[1;33m)\u001b[0m\u001b[1;33m,\u001b[0m\u001b[1;33m\u001b[0m\u001b[0m\n\u001b[0;32m     20\u001b[0m             \u001b[1;34m\"detail-nilai\"\u001b[0m\u001b[1;33m:\u001b[0m \u001b[0mdetail\u001b[0m\u001b[1;33m[\u001b[0m\u001b[1;36m6\u001b[0m\u001b[1;33m]\u001b[0m\u001b[1;33m.\u001b[0m\u001b[0mtext\u001b[0m\u001b[1;33m,\u001b[0m\u001b[1;33m\u001b[0m\u001b[0m\n",
      "\u001b[1;31mIndexError\u001b[0m: list index out of range"
     ]
    }
   ],
   "source": [
    "fetch_school(\"https://02.ppdbjatim.net/pengumuman/pengumuman_penerimaan/smk/sekolah/5478\")"
   ]
  },
  {
   "cell_type": "code",
   "execution_count": null,
   "metadata": {},
   "outputs": [],
   "source": []
  },
  {
   "cell_type": "code",
   "execution_count": 30,
   "metadata": {},
   "outputs": [
    {
     "data": {
      "text/plain": [
       "'sma'"
      ]
     },
     "execution_count": 30,
     "metadata": {},
     "output_type": "execute_result"
    }
   ],
   "source": [
    "'https://09.ppdbjatim.net/pengumuman/detail_pengumuman/sma/21805090010987'.split(\"/\")[-2]"
   ]
  },
  {
   "cell_type": "code",
   "execution_count": 45,
   "metadata": {},
   "outputs": [
    {
     "name": "stdout",
     "output_type": "stream",
     "text": [
      "a  b\n"
     ]
    }
   ],
   "source": [
    "print(\"a\", '', \"b\")"
   ]
  },
  {
   "cell_type": "code",
   "execution_count": 57,
   "metadata": {},
   "outputs": [
    {
     "data": {
      "text/plain": [
       "<enumerate at 0x7f983bcb2f30>"
      ]
     },
     "execution_count": 57,
     "metadata": {},
     "output_type": "execute_result"
    }
   ],
   "source": [
    "firenumerate([3,1,3])"
   ]
  },
  {
   "cell_type": "code",
   "execution_count": 58,
   "metadata": {},
   "outputs": [
    {
     "data": {
      "text/plain": [
       "'c'"
      ]
     },
     "execution_count": 58,
     "metadata": {},
     "output_type": "execute_result"
    }
   ],
   "source": [
    "\"a\" if False else \"b\" if False else \"c\" if True else \"d\""
   ]
  }
 ],
 "metadata": {
  "kernelspec": {
   "display_name": "Python 3",
   "language": "python",
   "name": "python3"
  },
  "language_info": {
   "codemirror_mode": {
    "name": "ipython",
    "version": 3
   },
   "file_extension": ".py",
   "mimetype": "text/x-python",
   "name": "python",
   "nbconvert_exporter": "python",
   "pygments_lexer": "ipython3",
   "version": "3.6.5"
  }
 },
 "nbformat": 4,
 "nbformat_minor": 2
}
